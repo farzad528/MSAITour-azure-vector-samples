{
 "cells": [
  {
   "cell_type": "markdown",
   "metadata": {},
   "source": [
    "# Getting Started with Azure AI Search for Vector Database"
   ]
  },
  {
   "cell_type": "code",
   "execution_count": null,
   "metadata": {},
   "outputs": [],
   "source": [
    "! pip install azure-identity\n",
    "! pip install openai\n",
    "! pip install python-dotenv\n",
    "! pip install azure-search-documents"
   ]
  },
  {
   "cell_type": "code",
   "execution_count": 14,
   "metadata": {},
   "outputs": [],
   "source": [
    "import os\n",
    "from azure.identity import DefaultAzureCredential, get_bearer_token_provider\n",
    "from azure.core.credentials import AzureKeyCredential\n",
    "from dotenv import load_dotenv\n",
    "from openai import AzureOpenAI\n",
    "from azure.search.documents import SearchClient\n",
    "from azure.search.documents.indexes import SearchIndexClient\n",
    "from azure.search.documents.indexes.models import (\n",
    "    HnswAlgorithmConfiguration,\n",
    "    HnswParameters,\n",
    "    SearchField,\n",
    "    SearchFieldDataType,\n",
    "    SearchIndex,\n",
    "    SimpleField,\n",
    "    VectorSearch,\n",
    "    VectorSearchAlgorithmKind,\n",
    "    VectorSearchProfile,\n",
    ")\n",
    "from azure.search.documents.models import VectorizedQuery\n",
    "\n",
    "# Set up OpenAI client based on environment variables\n",
    "load_dotenv()\n",
    "AZURE_OPENAI_ENDPOINT: str = os.getenv(\"AZURE_OPENAI_ENDPOINT\")\n",
    "AZURE_OPENAI_API_KEY: str = os.getenv(\"AZURE_OPENAI_API_KEY\")\n",
    "AZURE_OPENAI_API_VERSION: str = \"2023-05-15\"\n",
    "AZURE_OPENAI_EMBEDDING_DEPLOYED_MODEL_NAME: str = os.getenv(\n",
    "    \"AZURE_OPENAI_EMBEDDING_DEPLOYED_MODEL_NAME\"\n",
    ")\n",
    "\n",
    "\n",
    "# Set up Azure AI Search client based on environment variables\n",
    "AZURE_SEARCH_SERVICE_ENDPOINT: str = os.getenv(\"AZURE_SEARCH_SERVICE_ENDPOINT\")\n",
    "AZURE_SEARCH_ADMIN_KEY: str = os.getenv(\"AZURE_SEARCH_ADMIN_KEY\")\n",
    "\n",
    "credential = DefaultAzureCredential()\n",
    "token_provider = get_bearer_token_provider(\n",
    "    credential, \"https://cognitiveservices.azure.com/.default\"\n",
    ")\n",
    "\n",
    "# Set this flag to True if you are using Azure Active Directory\n",
    "use_aad_for_aoai = True\n",
    "\n",
    "if use_aad_for_aoai:\n",
    "    # Use Azure Active Directory (AAD) authentication\n",
    "    client = AzureOpenAI(\n",
    "        azure_endpoint=AZURE_OPENAI_ENDPOINT,\n",
    "        api_version=AZURE_OPENAI_API_VERSION,\n",
    "        azure_ad_token_provider=token_provider,\n",
    "    )\n",
    "else:\n",
    "    # Use API key authentication\n",
    "    client = AzureOpenAI(\n",
    "        api_key=AZURE_OPENAI_API_KEY,\n",
    "        api_version=AZURE_OPENAI_API_VERSION,\n",
    "        azure_endpoint=AZURE_OPENAI_ENDPOINT,\n",
    "    )\n",
    "\n",
    "# Set this flag to True if you are using Azure Active Directory\n",
    "use_aad_for_search = True\n",
    "\n",
    "if use_aad_for_search:\n",
    "    # Use Azure Active Directory (AAD) authentication\n",
    "    credential = DefaultAzureCredential()\n",
    "else:\n",
    "    # Use API key authentication\n",
    "    credential = AzureKeyCredential(AZURE_SEARCH_ADMIN_KEY)\n",
    "\n",
    "\n",
    "# Example function to generate document embedding\n",
    "def generate_embedding(text: str):\n",
    "    # Generate embeddings for the provided text using the specified model\n",
    "    embeddings_response = client.embeddings.create(\n",
    "        model=AZURE_OPENAI_EMBEDDING_DEPLOYED_MODEL_NAME, input=text\n",
    "    )\n",
    "    # Extract the embedding data from the response\n",
    "    return embeddings_response.data[0].embedding"
   ]
  },
  {
   "cell_type": "markdown",
   "metadata": {},
   "source": [
    "# Azure AI Search: vector search, step by step\n",
    "Create a tiny vector index"
   ]
  },
  {
   "cell_type": "code",
   "execution_count": 9,
   "metadata": {},
   "outputs": [
    {
     "name": "stdout",
     "output_type": "stream",
     "text": [
      "teenytinyy-index created\n"
     ]
    }
   ],
   "source": [
    "AZURE_SEARCH_TINY_INDEX = \"teenytinyy-index\"\n",
    "\n",
    "index = SearchIndex(\n",
    "    name=AZURE_SEARCH_TINY_INDEX,\n",
    "    fields=[\n",
    "        SimpleField(name=\"id\", type=SearchFieldDataType.String, key=True),\n",
    "        SimpleField(name=\"category\", type=SearchFieldDataType.String, filterable=True),\n",
    "        SearchField(\n",
    "            name=\"vector\",\n",
    "            type=SearchFieldDataType.Collection(SearchFieldDataType.Single),\n",
    "            searchable=True,\n",
    "            vector_search_dimensions=3,\n",
    "            vector_search_profile_name=\"my-hnsw-profile\",\n",
    "        ),\n",
    "    ],\n",
    "    vector_search=VectorSearch(\n",
    "        algorithms=[\n",
    "            HnswAlgorithmConfiguration(\n",
    "                name=\"my-hnsw-config\",\n",
    "                kind=VectorSearchAlgorithmKind.HNSW,\n",
    "                parameters=HnswParameters(metric=\"cosine\"),\n",
    "            )\n",
    "        ],\n",
    "        profiles=[\n",
    "            VectorSearchProfile(\n",
    "                name=\"my-hnsw-profile\", algorithm_configuration_name=\"my-hnsw-config\"\n",
    "            )\n",
    "        ],\n",
    "    ),\n",
    ")\n",
    "\n",
    "index_client = SearchIndexClient(\n",
    "    endpoint=AZURE_SEARCH_SERVICE_ENDPOINT, credential=credential\n",
    ")\n",
    "\n",
    "# Create or update the index\n",
    "result = index_client.create_or_update_index(index)\n",
    "print(f\"{result.name} created\")"
   ]
  },
  {
   "cell_type": "markdown",
   "metadata": {},
   "source": [
    "Insert a few documents with tiny vectors"
   ]
  },
  {
   "cell_type": "code",
   "execution_count": 13,
   "metadata": {},
   "outputs": [
    {
     "data": {
      "text/plain": [
       "[<azure.search.documents._generated.models._models_py3.IndexingResult at 0x227a1f326d0>,\n",
       " <azure.search.documents._generated.models._models_py3.IndexingResult at 0x227a1f4f0d0>,\n",
       " <azure.search.documents._generated.models._models_py3.IndexingResult at 0x227a243d8d0>]"
      ]
     },
     "execution_count": 13,
     "metadata": {},
     "output_type": "execute_result"
    }
   ],
   "source": [
    "search_client = SearchClient(\n",
    "    AZURE_SEARCH_SERVICE_ENDPOINT, AZURE_SEARCH_TINY_INDEX, credential=credential\n",
    ")\n",
    "search_client.upload_documents(\n",
    "    documents=[\n",
    "        {\"id\": \"1\", \"vector\": [1, 2, 3], \"category\": \"A\"},\n",
    "        {\"id\": \"2\", \"vector\": [1, 1, 3], \"category\": \"A\"},\n",
    "        {\"id\": \"3\", \"vector\": [4, 5, 6], \"category\": \"B\"},\n",
    "    ]\n",
    ")"
   ]
  },
  {
   "cell_type": "markdown",
   "metadata": {},
   "source": [
    "Search using vector similarity"
   ]
  },
  {
   "cell_type": "code",
   "execution_count": 16,
   "metadata": {},
   "outputs": [
    {
     "name": "stdout",
     "output_type": "stream",
     "text": [
      "id: 3, score: 0.99504673, B\n",
      "id: 1, score: 0.97305185, A\n",
      "id: 2, score: 0.9529747, A\n"
     ]
    }
   ],
   "source": [
    "r = search_client.search(\n",
    "    None,\n",
    "    vector_queries=[\n",
    "        VectorizedQuery(vector=[2, 2, 3], k_nearest_neighbors=3, fields=\"vector\")\n",
    "    ],\n",
    ")\n",
    "for doc in r:\n",
    "    print(f\"id: {doc['id']}, score: {doc['@search.score']}, {doc['category']}\")"
   ]
  },
  {
   "cell_type": "markdown",
   "metadata": {},
   "source": [
    "Search with a filter!"
   ]
  },
  {
   "cell_type": "code",
   "execution_count": 17,
   "metadata": {},
   "outputs": [
    {
     "name": "stdout",
     "output_type": "stream",
     "text": [
      "id: 1, score: 0.97305185, A\n",
      "id: 2, score: 0.9529747, A\n"
     ]
    }
   ],
   "source": [
    "r = search_client.search(\n",
    "    None,\n",
    "    vector_queries=[\n",
    "        VectorizedQuery(vector=[2, 2, 3], k_nearest_neighbors=3, fields=\"vector\")\n",
    "    ],\n",
    "    filter=\"category eq 'A'\",\n",
    ")\n",
    "for doc in r:\n",
    "    print(f\"id: {doc['id']}, score: {doc['@search.score']}, {doc['category']}\")"
   ]
  }
 ],
 "metadata": {
  "kernelspec": {
   "display_name": ".venv",
   "language": "python",
   "name": "python3"
  },
  "language_info": {
   "codemirror_mode": {
    "name": "ipython",
    "version": 3
   },
   "file_extension": ".py",
   "mimetype": "text/x-python",
   "name": "python",
   "nbconvert_exporter": "python",
   "pygments_lexer": "ipython3",
   "version": "3.11.7"
  }
 },
 "nbformat": 4,
 "nbformat_minor": 2
}
